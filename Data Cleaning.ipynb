{
 "cells": [
  {
   "cell_type": "markdown",
   "id": "a347f5fa",
   "metadata": {},
   "source": [
    "# Fall 2023 SEEDS Discussion Forum- <span style= \"color:red\"> Dr. Ebenezer Larnyo¶</span>\n",
    "# <span style= \"color:red\">Project:</span> Sentiment Analysis (Using data from Reddit of People with ASD)\n",
    "# <span style= \"color:red\">Task:</span> Data Cleaning and  Exploration"
   ]
  },
  {
   "cell_type": "markdown",
   "id": "e0c22396",
   "metadata": {},
   "source": [
    "<span style= \"color:red\"><b>Themes:</span></b>\n",
    "\n",
    "* symptoms\n",
    "* care/treatment\n",
    "* drugs/interventions\n",
    "* epidemiology\n",
    "* stigma\n",
    "* diagnosis\n",
    "* assistive technologies (smart)\n",
    "* burden of ASD\n",
    "* caregivers of ASD\n",
    "* Natural cure\n",
    "* COVID and ASD\n",
    "\n",
    "\n",
    "<span style= \"color:red\"><b>Keywords </span></b> = [ 'sensory issues', 'repetitive behaviors', 'social difficulties', 'communication challenges', 'meltdowns', 'stimming', 'behavioral therapy', 'occupational therapy', 'speech therapy', 'social skills training', 'early intervention', 'ABA', 'TEACCH', 'sensory integration therapy', 'Risperidone', 'Aripiprazole', 'Methylphenidate', 'Guanfacine', 'SSRI', 'antipsychotics', 'ADHD medications', 'melatonin', 'prevalence', 'incidence', 'risk factors', 'gender differences', 'heritability', 'environmental factors', 'geographic variations', 'discrimination', 'stereotypes', 'public awareness', 'misconceptions', 'social isolation', 'acceptance', 'DSM-5', 'Autism Diagnostic Observation Schedule', 'ADOS', 'Autism Diagnostic Interview-Revised', 'ADI-R', 'Childhood Autism Rating Scale', 'CARS', \"Asperger's syndrome\", 'PDD-NOS', 'AAC', 'speech-generating devices', 'visual schedules', 'smart devices', 'apps for autism', 'wearable technology', 'economic burden', 'societal cost', 'quality of life', 'educational challenges', 'employment challenges', 'mental health issues', 'parental stress', 'support groups', 'coping strategies', 'respite care', 'sibling support', 'family therapy', 'dietary interventions', 'herbal supplements', 'homeopathy', 'acupuncture', 'meditation', 'yoga', 'impact of lockdown', 'teletherapy', 'remote learning', 'mental health during pandemic', 'access to services', 'social distancing challenges' ]"
   ]
  },
  {
   "cell_type": "markdown",
   "id": "48c19ab2",
   "metadata": {},
   "source": [
    "## Step 1: Import the necessary libraries."
   ]
  },
  {
   "cell_type": "code",
   "execution_count": 2,
   "id": "f602ad23",
   "metadata": {},
   "outputs": [],
   "source": [
    "# import needed libraries\n",
    "import numpy as np\n",
    "import pandas as pd\n",
    "#!pip install altiar\n",
    "import altair as alt\n",
    "import re\n",
    "# disable row limit for plotting\n",
    "alt.data_transformers.disable_max_rows()\n",
    "# uncomment to ensure graphics display with pdf export\n",
    "alt.renderers.enable('mimetype')\n",
    "# For webscraping\n",
    "#!pip install praw\n",
    "import praw\n",
    "import csv"
   ]
  },
  {
   "cell_type": "markdown",
   "id": "c9d13a9b",
   "metadata": {},
   "source": [
    "## Step 2: Recall csv file from last time"
   ]
  },
  {
   "cell_type": "code",
   "execution_count": 4,
   "id": "c60cd1af",
   "metadata": {},
   "outputs": [
    {
     "name": "stdout",
     "output_type": "stream",
     "text": [
      "                                               title  \\\n",
      "0  Maybe a dumb question, but is stimming suppose...   \n",
      "1  I just learned that recess was difficult for m...   \n",
      "2                               Internalized Ableism   \n",
      "3  The airport in my city has just opened a cafe ...   \n",
      "\n",
      "                                            selftext  \\\n",
      "0  Am I supposed to have started stimming and do ...   \n",
      "1  I(33m) had a really difficult time with my anx...   \n",
      "2  I used to look at autistic people and anyone n...   \n",
      "3                                                NaN   \n",
      "\n",
      "                                                 url               author  \\\n",
      "0  https://www.reddit.com/r/autism/comments/17k9z...          Heyoman2234   \n",
      "1  https://www.reddit.com/r/autism/comments/17k94...        backinaflash1   \n",
      "2  https://www.reddit.com/r/autism/comments/17k86...            LightDash   \n",
      "3  https://vancouver.citynews.ca/2023/10/29/yvr-i...  icantfindagoodlogin   \n",
      "\n",
      "      timestamp  num_comments  upvotes  \n",
      "0  1.698717e+09             3        1  \n",
      "1  1.698715e+09             4        4  \n",
      "2  1.698712e+09             2        1  \n",
      "3  1.698710e+09             1        0  \n"
     ]
    }
   ],
   "source": [
    "df = pd.read_csv('/Users/elarnyo/SEEDS_reddit_scrape.csv')\n",
    "\n",
    "# return first 4 rows\n",
    "get_rows = df.head(4)\n",
    "\n",
    "print(get_rows)"
   ]
  },
  {
   "cell_type": "code",
   "execution_count": 23,
   "id": "cf61a531",
   "metadata": {},
   "outputs": [
    {
     "data": {
      "text/plain": [
       "Index(['title', 'selftext', 'url', 'author', 'timestamp', 'num_comments',\n",
       "       'upvotes'],\n",
       "      dtype='object')"
      ]
     },
     "execution_count": 23,
     "metadata": {},
     "output_type": "execute_result"
    }
   ],
   "source": [
    "#Show the list of the names of all the columns in the DataFrame\n",
    "df.columns"
   ]
  },
  {
   "cell_type": "code",
   "execution_count": 10,
   "id": "1786f77d",
   "metadata": {},
   "outputs": [
    {
     "data": {
      "text/html": [
       "<div>\n",
       "<style scoped>\n",
       "    .dataframe tbody tr th:only-of-type {\n",
       "        vertical-align: middle;\n",
       "    }\n",
       "\n",
       "    .dataframe tbody tr th {\n",
       "        vertical-align: top;\n",
       "    }\n",
       "\n",
       "    .dataframe thead th {\n",
       "        text-align: right;\n",
       "    }\n",
       "</style>\n",
       "<table border=\"1\" class=\"dataframe\">\n",
       "  <thead>\n",
       "    <tr style=\"text-align: right;\">\n",
       "      <th></th>\n",
       "      <th>title</th>\n",
       "      <th>selftext</th>\n",
       "      <th>url</th>\n",
       "      <th>author</th>\n",
       "      <th>timestamp</th>\n",
       "      <th>num_comments</th>\n",
       "      <th>upvotes</th>\n",
       "    </tr>\n",
       "  </thead>\n",
       "  <tbody>\n",
       "    <tr>\n",
       "      <th>0</th>\n",
       "      <td>Maybe a dumb question, but is stimming suppose...</td>\n",
       "      <td>Am I supposed to have started stimming and do ...</td>\n",
       "      <td>https://www.reddit.com/r/autism/comments/17k9z...</td>\n",
       "      <td>Heyoman2234</td>\n",
       "      <td>1.698717e+09</td>\n",
       "      <td>3</td>\n",
       "      <td>1</td>\n",
       "    </tr>\n",
       "    <tr>\n",
       "      <th>1</th>\n",
       "      <td>I just learned that recess was difficult for m...</td>\n",
       "      <td>I(33m) had a really difficult time with my anx...</td>\n",
       "      <td>https://www.reddit.com/r/autism/comments/17k94...</td>\n",
       "      <td>backinaflash1</td>\n",
       "      <td>1.698715e+09</td>\n",
       "      <td>4</td>\n",
       "      <td>4</td>\n",
       "    </tr>\n",
       "    <tr>\n",
       "      <th>2</th>\n",
       "      <td>Internalized Ableism</td>\n",
       "      <td>I used to look at autistic people and anyone n...</td>\n",
       "      <td>https://www.reddit.com/r/autism/comments/17k86...</td>\n",
       "      <td>LightDash</td>\n",
       "      <td>1.698712e+09</td>\n",
       "      <td>2</td>\n",
       "      <td>1</td>\n",
       "    </tr>\n",
       "    <tr>\n",
       "      <th>3</th>\n",
       "      <td>The airport in my city has just opened a cafe ...</td>\n",
       "      <td>NaN</td>\n",
       "      <td>https://vancouver.citynews.ca/2023/10/29/yvr-i...</td>\n",
       "      <td>icantfindagoodlogin</td>\n",
       "      <td>1.698710e+09</td>\n",
       "      <td>1</td>\n",
       "      <td>0</td>\n",
       "    </tr>\n",
       "    <tr>\n",
       "      <th>4</th>\n",
       "      <td>Tips on handling dysregulation, meltdowns, and...</td>\n",
       "      <td>Hi all - I’m a later in life diagnosed AuDHD g...</td>\n",
       "      <td>https://www.reddit.com/r/autism/comments/17k6f...</td>\n",
       "      <td>Lazarus_1102</td>\n",
       "      <td>1.698707e+09</td>\n",
       "      <td>3</td>\n",
       "      <td>4</td>\n",
       "    </tr>\n",
       "  </tbody>\n",
       "</table>\n",
       "</div>"
      ],
      "text/plain": [
       "                                               title  \\\n",
       "0  Maybe a dumb question, but is stimming suppose...   \n",
       "1  I just learned that recess was difficult for m...   \n",
       "2                               Internalized Ableism   \n",
       "3  The airport in my city has just opened a cafe ...   \n",
       "4  Tips on handling dysregulation, meltdowns, and...   \n",
       "\n",
       "                                            selftext  \\\n",
       "0  Am I supposed to have started stimming and do ...   \n",
       "1  I(33m) had a really difficult time with my anx...   \n",
       "2  I used to look at autistic people and anyone n...   \n",
       "3                                                NaN   \n",
       "4  Hi all - I’m a later in life diagnosed AuDHD g...   \n",
       "\n",
       "                                                 url               author  \\\n",
       "0  https://www.reddit.com/r/autism/comments/17k9z...          Heyoman2234   \n",
       "1  https://www.reddit.com/r/autism/comments/17k94...        backinaflash1   \n",
       "2  https://www.reddit.com/r/autism/comments/17k86...            LightDash   \n",
       "3  https://vancouver.citynews.ca/2023/10/29/yvr-i...  icantfindagoodlogin   \n",
       "4  https://www.reddit.com/r/autism/comments/17k6f...         Lazarus_1102   \n",
       "\n",
       "      timestamp  num_comments  upvotes  \n",
       "0  1.698717e+09             3        1  \n",
       "1  1.698715e+09             4        4  \n",
       "2  1.698712e+09             2        1  \n",
       "3  1.698710e+09             1        0  \n",
       "4  1.698707e+09             3        4  "
      ]
     },
     "execution_count": 10,
     "metadata": {},
     "output_type": "execute_result"
    }
   ],
   "source": [
    "# Display the first few rows of a DataFrame By default, it displays the first 5 rows, but you can specify the number of rows to display by passing an argument to the method.\n",
    "df.head()\n",
    "## For example, df.head(15) will display the first 10 rows of the DataFrame.\n",
    "#df.head(15)"
   ]
  },
  {
   "cell_type": "code",
   "execution_count": 17,
   "id": "1ad40479",
   "metadata": {},
   "outputs": [
    {
     "data": {
      "text/html": [
       "<div>\n",
       "<style scoped>\n",
       "    .dataframe tbody tr th:only-of-type {\n",
       "        vertical-align: middle;\n",
       "    }\n",
       "\n",
       "    .dataframe tbody tr th {\n",
       "        vertical-align: top;\n",
       "    }\n",
       "\n",
       "    .dataframe thead th {\n",
       "        text-align: right;\n",
       "    }\n",
       "</style>\n",
       "<table border=\"1\" class=\"dataframe\">\n",
       "  <thead>\n",
       "    <tr style=\"text-align: right;\">\n",
       "      <th></th>\n",
       "      <th>title</th>\n",
       "      <th>selftext</th>\n",
       "      <th>url</th>\n",
       "      <th>author</th>\n",
       "      <th>timestamp</th>\n",
       "      <th>num_comments</th>\n",
       "      <th>upvotes</th>\n",
       "    </tr>\n",
       "  </thead>\n",
       "  <tbody>\n",
       "    <tr>\n",
       "      <th>147</th>\n",
       "      <td>My autistic son is so difficult</td>\n",
       "      <td>I have a 17-year-old son, J (pronounce it in y...</td>\n",
       "      <td>https://www.reddit.com/r/autism/comments/17grg...</td>\n",
       "      <td>TrashOnTheFlo</td>\n",
       "      <td>1.698307e+09</td>\n",
       "      <td>4</td>\n",
       "      <td>0</td>\n",
       "    </tr>\n",
       "    <tr>\n",
       "      <th>148</th>\n",
       "      <td>Do people keep gaslighting and hurting you to ...</td>\n",
       "      <td>Do nts and conformist nds try to body police y...</td>\n",
       "      <td>https://www.reddit.com/r/autism/comments/17gr8...</td>\n",
       "      <td>Rude_Cheesecake_6916</td>\n",
       "      <td>1.698306e+09</td>\n",
       "      <td>5</td>\n",
       "      <td>10</td>\n",
       "    </tr>\n",
       "    <tr>\n",
       "      <th>149</th>\n",
       "      <td>Do you ever feel \"left behind\" by civil rights...</td>\n",
       "      <td>I mean there's been massive movements for lgbt...</td>\n",
       "      <td>https://www.reddit.com/r/autism/comments/17gq4...</td>\n",
       "      <td>JonathanUpp</td>\n",
       "      <td>1.698302e+09</td>\n",
       "      <td>4</td>\n",
       "      <td>1</td>\n",
       "    </tr>\n",
       "    <tr>\n",
       "      <th>150</th>\n",
       "      <td>I think I'm experiencing discrimination at work</td>\n",
       "      <td>I think my supervisor is trying to mess with m...</td>\n",
       "      <td>https://www.reddit.com/r/autism/comments/17gnu...</td>\n",
       "      <td>cecropiajupiter</td>\n",
       "      <td>1.698293e+09</td>\n",
       "      <td>6</td>\n",
       "      <td>11</td>\n",
       "    </tr>\n",
       "    <tr>\n",
       "      <th>151</th>\n",
       "      <td>Website topics</td>\n",
       "      <td>My friend and I are both neurodivergent. I hav...</td>\n",
       "      <td>https://www.reddit.com/r/autism/comments/17gn0...</td>\n",
       "      <td>dinosaurs818</td>\n",
       "      <td>1.698290e+09</td>\n",
       "      <td>2</td>\n",
       "      <td>1</td>\n",
       "    </tr>\n",
       "  </tbody>\n",
       "</table>\n",
       "</div>"
      ],
      "text/plain": [
       "                                                 title  \\\n",
       "147                    My autistic son is so difficult   \n",
       "148  Do people keep gaslighting and hurting you to ...   \n",
       "149  Do you ever feel \"left behind\" by civil rights...   \n",
       "150    I think I'm experiencing discrimination at work   \n",
       "151                                     Website topics   \n",
       "\n",
       "                                              selftext  \\\n",
       "147  I have a 17-year-old son, J (pronounce it in y...   \n",
       "148  Do nts and conformist nds try to body police y...   \n",
       "149  I mean there's been massive movements for lgbt...   \n",
       "150  I think my supervisor is trying to mess with m...   \n",
       "151  My friend and I are both neurodivergent. I hav...   \n",
       "\n",
       "                                                   url                author  \\\n",
       "147  https://www.reddit.com/r/autism/comments/17grg...         TrashOnTheFlo   \n",
       "148  https://www.reddit.com/r/autism/comments/17gr8...  Rude_Cheesecake_6916   \n",
       "149  https://www.reddit.com/r/autism/comments/17gq4...           JonathanUpp   \n",
       "150  https://www.reddit.com/r/autism/comments/17gnu...       cecropiajupiter   \n",
       "151  https://www.reddit.com/r/autism/comments/17gn0...          dinosaurs818   \n",
       "\n",
       "        timestamp  num_comments  upvotes  \n",
       "147  1.698307e+09             4        0  \n",
       "148  1.698306e+09             5       10  \n",
       "149  1.698302e+09             4        1  \n",
       "150  1.698293e+09             6       11  \n",
       "151  1.698290e+09             2        1  "
      ]
     },
     "execution_count": 17,
     "metadata": {},
     "output_type": "execute_result"
    }
   ],
   "source": [
    "df.tail()"
   ]
  },
  {
   "cell_type": "code",
   "execution_count": 22,
   "id": "0a7e87a3",
   "metadata": {},
   "outputs": [
    {
     "data": {
      "text/plain": [
       "title           0\n",
       "selftext        1\n",
       "url             0\n",
       "author          0\n",
       "timestamp       0\n",
       "num_comments    0\n",
       "upvotes         0\n",
       "dtype: int64"
      ]
     },
     "execution_count": 22,
     "metadata": {},
     "output_type": "execute_result"
    }
   ],
   "source": [
    "#counts the number of missing values (NaNs) in each column of a DataFrame\n",
    "df.isnull().sum()"
   ]
  },
  {
   "cell_type": "code",
   "execution_count": 24,
   "id": "5ebdcbd1",
   "metadata": {},
   "outputs": [
    {
     "name": "stdout",
     "output_type": "stream",
     "text": [
      "<class 'pandas.core.frame.DataFrame'>\n",
      "RangeIndex: 152 entries, 0 to 151\n",
      "Data columns (total 7 columns):\n",
      " #   Column        Non-Null Count  Dtype  \n",
      "---  ------        --------------  -----  \n",
      " 0   title         152 non-null    object \n",
      " 1   selftext      151 non-null    object \n",
      " 2   url           152 non-null    object \n",
      " 3   author        152 non-null    object \n",
      " 4   timestamp     152 non-null    float64\n",
      " 5   num_comments  152 non-null    int64  \n",
      " 6   upvotes       152 non-null    int64  \n",
      "dtypes: float64(1), int64(2), object(4)\n",
      "memory usage: 8.4+ KB\n"
     ]
    }
   ],
   "source": [
    "#Displays a concise summary of the DataFrame \n",
    "df.info()"
   ]
  },
  {
   "cell_type": "code",
   "execution_count": 25,
   "id": "1ff9f7da",
   "metadata": {},
   "outputs": [
    {
     "data": {
      "text/html": [
       "<div>\n",
       "<style scoped>\n",
       "    .dataframe tbody tr th:only-of-type {\n",
       "        vertical-align: middle;\n",
       "    }\n",
       "\n",
       "    .dataframe tbody tr th {\n",
       "        vertical-align: top;\n",
       "    }\n",
       "\n",
       "    .dataframe thead th {\n",
       "        text-align: right;\n",
       "    }\n",
       "</style>\n",
       "<table border=\"1\" class=\"dataframe\">\n",
       "  <thead>\n",
       "    <tr style=\"text-align: right;\">\n",
       "      <th></th>\n",
       "      <th>timestamp</th>\n",
       "      <th>num_comments</th>\n",
       "      <th>upvotes</th>\n",
       "    </tr>\n",
       "  </thead>\n",
       "  <tbody>\n",
       "    <tr>\n",
       "      <th>count</th>\n",
       "      <td>1.520000e+02</td>\n",
       "      <td>152.000000</td>\n",
       "      <td>152.000000</td>\n",
       "    </tr>\n",
       "    <tr>\n",
       "      <th>mean</th>\n",
       "      <td>1.698508e+09</td>\n",
       "      <td>13.256579</td>\n",
       "      <td>17.282895</td>\n",
       "    </tr>\n",
       "    <tr>\n",
       "      <th>std</th>\n",
       "      <td>1.268818e+05</td>\n",
       "      <td>67.937788</td>\n",
       "      <td>69.887935</td>\n",
       "    </tr>\n",
       "    <tr>\n",
       "      <th>min</th>\n",
       "      <td>1.698290e+09</td>\n",
       "      <td>0.000000</td>\n",
       "      <td>0.000000</td>\n",
       "    </tr>\n",
       "    <tr>\n",
       "      <th>25%</th>\n",
       "      <td>1.698394e+09</td>\n",
       "      <td>1.000000</td>\n",
       "      <td>1.000000</td>\n",
       "    </tr>\n",
       "    <tr>\n",
       "      <th>50%</th>\n",
       "      <td>1.698504e+09</td>\n",
       "      <td>3.000000</td>\n",
       "      <td>2.000000</td>\n",
       "    </tr>\n",
       "    <tr>\n",
       "      <th>75%</th>\n",
       "      <td>1.698627e+09</td>\n",
       "      <td>7.000000</td>\n",
       "      <td>5.000000</td>\n",
       "    </tr>\n",
       "    <tr>\n",
       "      <th>max</th>\n",
       "      <td>1.698717e+09</td>\n",
       "      <td>766.000000</td>\n",
       "      <td>541.000000</td>\n",
       "    </tr>\n",
       "  </tbody>\n",
       "</table>\n",
       "</div>"
      ],
      "text/plain": [
       "          timestamp  num_comments     upvotes\n",
       "count  1.520000e+02    152.000000  152.000000\n",
       "mean   1.698508e+09     13.256579   17.282895\n",
       "std    1.268818e+05     67.937788   69.887935\n",
       "min    1.698290e+09      0.000000    0.000000\n",
       "25%    1.698394e+09      1.000000    1.000000\n",
       "50%    1.698504e+09      3.000000    2.000000\n",
       "75%    1.698627e+09      7.000000    5.000000\n",
       "max    1.698717e+09    766.000000  541.000000"
      ]
     },
     "execution_count": 25,
     "metadata": {},
     "output_type": "execute_result"
    }
   ],
   "source": [
    "#Generates summary of descriptive statistics (central tendency, dispersion, and shape) of the DataFrame's distribution\n",
    "df.describe()"
   ]
  },
  {
   "cell_type": "markdown",
   "id": "f57fb5e3",
   "metadata": {},
   "source": [
    "# Step 2: Data Cleaning Steps"
   ]
  },
  {
   "cell_type": "code",
   "execution_count": 5,
   "id": "5ae4f654",
   "metadata": {},
   "outputs": [
    {
     "data": {
      "text/plain": [
       "152"
      ]
     },
     "execution_count": 5,
     "metadata": {},
     "output_type": "execute_result"
    }
   ],
   "source": [
    "# remove any duplicates\n",
    "len(df)\n",
    "\n",
    "df.drop_duplicates()\n",
    "# show the length of the DataFrame\n",
    "len(df)\n",
    "# there were no duplicates :)"
   ]
  },
  {
   "cell_type": "markdown",
   "id": "0a831fe9",
   "metadata": {},
   "source": [
    "# Step 3: Group the data into the above 11 themes\n",
    "To do so I will add a new column named \"theme\". I will create a function that goes through the pre-existing .csv file from above and determing which theme it should be added to. "
   ]
  },
  {
   "cell_type": "code",
   "execution_count": 12,
   "id": "3bb0404f",
   "metadata": {},
   "outputs": [
    {
     "name": "stdout",
     "output_type": "stream",
     "text": [
      "                                               title  \\\n",
      "0  Maybe a dumb question, but is stimming suppose...   \n",
      "1  I just learned that recess was difficult for m...   \n",
      "2                               Internalized Ableism   \n",
      "\n",
      "                                            selftext  \\\n",
      "0  Am I supposed to have started stimming and do ...   \n",
      "1  I(33m) had a really difficult time with my anx...   \n",
      "2  I used to look at autistic people and anyone n...   \n",
      "\n",
      "                                                 url         author  \\\n",
      "0  https://www.reddit.com/r/autism/comments/17k9z...    Heyoman2234   \n",
      "1  https://www.reddit.com/r/autism/comments/17k94...  backinaflash1   \n",
      "2  https://www.reddit.com/r/autism/comments/17k86...      LightDash   \n",
      "\n",
      "      timestamp  num_comments  upvotes  \n",
      "0  1.698717e+09             3        1  \n",
      "1  1.698715e+09             4        4  \n",
      "2  1.698712e+09             2        1  \n"
     ]
    }
   ],
   "source": [
    "# return first 4 rows of data frame\n",
    "df1 = df\n",
    "get_rows1 = df1.head(3)\n",
    "\n",
    "print(get_rows1)"
   ]
  },
  {
   "cell_type": "code",
   "execution_count": 13,
   "id": "8c015f0e",
   "metadata": {},
   "outputs": [],
   "source": [
    "# remove null values for self text column \n",
    "df1 = df1[df1['selftext'].notnull()]\n",
    "\n",
    "# remove null values for title column \n",
    "df1 = df1[df1['title'].notnull()]\n",
    "\n",
    "# remove null values for author column \n",
    "df1 = df1[df1['author'].notnull()]\n",
    "\n",
    "# remove null values for timestamp column \n",
    "df1 = df1[df1['timestamp'].notnull()]\n",
    "\n",
    "# remove null values for num_comments column \n",
    "df1 = df1[df1['num_comments'].notnull()]\n",
    "\n",
    "# remove null values for upvotes column \n",
    "df1 = df1[df1['upvotes'].notnull()]"
   ]
  },
  {
   "cell_type": "code",
   "execution_count": 16,
   "id": "84d06669",
   "metadata": {},
   "outputs": [
    {
     "data": {
      "text/plain": [
       "151"
      ]
     },
     "execution_count": 16,
     "metadata": {},
     "output_type": "execute_result"
    }
   ],
   "source": [
    "#Show the length of the DataFrame\n",
    "len(df1)\n",
    "#df.head(151)"
   ]
  },
  {
   "cell_type": "markdown",
   "id": "849b3e59",
   "metadata": {},
   "source": [
    "## Step 3: Match the Keywords with the themes"
   ]
  },
  {
   "cell_type": "code",
   "execution_count": 18,
   "id": "113e3c56",
   "metadata": {},
   "outputs": [],
   "source": [
    "word_set_symptoms = set(['sensory issues', 'repetitive behaviors', 'social difficulties', 'communication challenges', \n",
    "            'meltdowns', 'stimming', 'impulsivity', \n",
    "            'anxiety', 'unaware','cognitive', 'social',  'symptoms'])\n",
    "\n",
    "word_set_care = set(['behavioral therapy', 'occupational therapy', 'speech therapy', \n",
    "            'social skills training', 'early intervention', 'ABA', 'TEACCH', 'sensory integration therapy', \n",
    "                    'treatment',  'public health'])\n",
    "\n",
    "word_set_drugs = set([ 'Risperidone', 'Aripiprazole', 'Methylphenidate', 'Guanfacine', 'SSRI', 'antipsychotics', \n",
    "            'ADHD medications', 'melatonin', 'intervention', 'tricylics', 'stimulants', 'anxiety', \n",
    "           'medication', 'pill', 'fda', 'abilify', 'stabilizer',])\n",
    "\n",
    "word_set_epi = set(['hygiene', 'disease'])\n",
    "\n",
    "word_set_stigma = set(['gender differences', 'social isolation', 'acceptance', 'shame', 'stigma', 'stereotype', \n",
    "                      'judgement'])\n",
    "\n",
    "word_set_diagnosis = set(['prevalence', 'heritability', 'environmental factors', 'geographic variations', 'discrimination', 'stereotypes', \n",
    "            'public awareness', 'misconceptions', 'DSM-5', 'ADI-R', 'Childhood Autism Rating Scale', 'CARS', \n",
    "            \"Asperger's syndrome\", 'PDD-NOS', 'AAC', 'diagnosis', 'discovery', 'prognosis'])\n",
    "\n",
    "word_set_tech = set(['speech-generating devices', 'visual schedules', 'smart devices', 'apps for autism', \n",
    "                     'wearable technology', 'apple', 'google', 'software'])\n",
    "\n",
    "word_set_burden = set(['incidence', 'risk factors', 'economic burden', 'societal cost', 'quality of life', \n",
    "                       'educational challenges', 'employment challenges', \n",
    "                        'mental health issues', 'parental stress', 'support groups', 'coping strategies', \n",
    "                      'burden', 'impediment', 'strain'])\n",
    "\n",
    "word_set_caregiver = set(['Autism Diagnostic Observation Schedule', 'ADOS', 'Autism Diagnostic Interview-Revised', \n",
    "                         'respite care', 'sibling support', 'family therapy',\n",
    "                         'care', 'nurse', 'caretaker'])\n",
    "\n",
    "word_set_natural = set(['dietary interventions', 'herbal supplements', 'homeopathy', \n",
    "            'acupuncture', 'meditation', 'yoga', 'yoga', 'meditation', \n",
    "            'dietary interventions', 'herbal supplements', 'homeopathy', 'acupuncture', \n",
    "            'herbs', 'brahmi', 'diet', 'ashwagandha', 'vitamin', 'natural', 'hollistic'])\n",
    "\n",
    "word_set_covid = set(['impact of lockdown', 'teletherapy', 'remote learning', \n",
    "            'mental health during pandemic', 'access to services', 'social distancing challenges', \n",
    "            'covid', 'corona virus'])\n",
    "\n",
    "# Create an empty Series for themes\n",
    "themes = pd.Series(index=range(325), dtype=object)\n",
    "df1['theme'] = themes  # Add the 'theme' column to the DataFrame\n",
    "\n",
    "for i in range(len(df1)):\n",
    "    if i in df1.index:\n",
    "        phrase_set = set(str(df1.at[i, 'title']).split())\n",
    "        selftext = df1.at[i, 'selftext']\n",
    "        if isinstance(selftext, str):\n",
    "            phrase_set_selftext = set(selftext.split())\n",
    "        else:\n",
    "            phrase_set_selftext = set()  # or any other appropriate action for non-string values\n",
    "\n",
    "        if word_set_symptoms.intersection(phrase_set):\n",
    "            df1.at[i, 'theme'] = 'symptoms'\n",
    "        elif word_set_care.intersection(phrase_set):\n",
    "            df1.at[i, 'theme'] = 'care/treatment'\n",
    "        elif word_set_drugs.intersection(phrase_set):\n",
    "            df1.at[i, 'theme'] = 'drugs/interventions'        \n",
    "        elif word_set_epi.intersection(phrase_set):\n",
    "            df1.at[i, 'theme'] = 'epidemiology'\n",
    "        elif word_set_stigma.intersection(phrase_set):\n",
    "            df1.at[i, 'theme'] = 'stigma'\n",
    "        elif word_set_diagnosis.intersection(phrase_set):\n",
    "            df1.at[i, 'theme'] = 'diagnosis'\n",
    "        elif word_set_tech.intersection(phrase_set):\n",
    "            df1.at[i, 'theme'] = 'assistive technologies (smart)'\n",
    "        elif word_set_burden.intersection(phrase_set):\n",
    "            df1.at[i, 'theme'] = 'burden of ASD'\n",
    "        elif word_set_caregiver.intersection(phrase_set):\n",
    "            df1.at[i, 'theme'] = 'caregivers of ASD'\n",
    "        elif word_set_natural.intersection(phrase_set):\n",
    "            df1.at[i, 'theme'] = 'Natural cure'\n",
    "        elif word_set_covid.intersection(phrase_set):\n",
    "            df1.at[i, 'theme'] = 'Covid and ASD'\n",
    "        else:\n",
    "            if word_set_symptoms.intersection(phrase_set_selftext):\n",
    "                df1.at[i, 'theme'] = 'symptoms'\n",
    "            elif word_set_care.intersection(phrase_set_selftext):\n",
    "                df1.at[i, 'theme'] = 'care/treatment'\n",
    "            elif word_set_drugs.intersection(phrase_set_selftext):\n",
    "                df1.at[i, 'theme'] = 'drugs/interventions'        \n",
    "            elif word_set_epi.intersection(phrase_set_selftext):\n",
    "                df1.at[i, 'theme'] = 'epidemiology'\n",
    "            elif word_set_stigma.intersection(phrase_set_selftext):\n",
    "                df1.at[i, 'theme'] = 'stigma'\n",
    "            elif word_set_diagnosis.intersection(phrase_set_selftext):\n",
    "                df1.at[i, 'theme'] = 'diagnosis'\n",
    "            elif word_set_tech.intersection(phrase_set_selftext):\n",
    "                df1.at[i, 'theme'] = 'assistive technologies (smart)'\n",
    "            elif word_set_burden.intersection(phrase_set_selftext):\n",
    "                df1.at[i, 'theme'] = 'burden of ASD'\n",
    "            elif word_set_caregiver.intersection(phrase_set_selftext):\n",
    "                df1.at[i, 'theme'] = 'caregivers of ASD'\n",
    "            elif word_set_natural.intersection(phrase_set_selftext):\n",
    "                df1.at[i, 'theme'] = 'Natural cure'\n",
    "            elif word_set_covid.intersection(phrase_set_selftext):\n",
    "                df1.at[i, 'theme'] = 'Covid and ASD'"
   ]
  },
  {
   "cell_type": "code",
   "execution_count": 19,
   "id": "0687c7b2",
   "metadata": {},
   "outputs": [
    {
     "data": {
      "text/plain": [
       "92"
      ]
     },
     "execution_count": 19,
     "metadata": {},
     "output_type": "execute_result"
    }
   ],
   "source": [
    "# get rid of the rows that were not categorized into a them \n",
    "df1 = df1[df1['theme'].notnull()]\n",
    "len(df1)"
   ]
  },
  {
   "cell_type": "code",
   "execution_count": 20,
   "id": "8b3e5c93",
   "metadata": {},
   "outputs": [],
   "source": [
    "# sort rows by theme so that they are grouped together\n",
    "df1 = df1.sort_values(by = 'theme')"
   ]
  },
  {
   "cell_type": "code",
   "execution_count": 21,
   "id": "7aefc825",
   "metadata": {},
   "outputs": [],
   "source": [
    "# export data frame to csv file \n",
    "df1.to_csv('/Users/elarnyo/SEEDS_reddit_cleaned.csv'\n",
    "          , index=False)"
   ]
  },
  {
   "cell_type": "code",
   "execution_count": null,
   "id": "740ba5fe",
   "metadata": {},
   "outputs": [],
   "source": []
  }
 ],
 "metadata": {
  "kernelspec": {
   "display_name": "Python 3 (ipykernel)",
   "language": "python",
   "name": "python3"
  },
  "language_info": {
   "codemirror_mode": {
    "name": "ipython",
    "version": 3
   },
   "file_extension": ".py",
   "mimetype": "text/x-python",
   "name": "python",
   "nbconvert_exporter": "python",
   "pygments_lexer": "ipython3",
   "version": "3.9.13"
  }
 },
 "nbformat": 4,
 "nbformat_minor": 5
}
